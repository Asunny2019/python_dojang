{
 "cells": [
  {
   "cell_type": "markdown",
   "metadata": {},
   "source": [
    "## 파이썬 코딩도장\n",
    "### Unit16. for 문으로 hello world! 100번 출력하기\n",
    "#### 16.1 for와 range 사용하기\n",
    "- 아래와 같이 작업하려면 비효율적"
   ]
  },
  {
   "cell_type": "code",
   "execution_count": 2,
   "metadata": {},
   "outputs": [
    {
     "name": "stdout",
     "output_type": "stream",
     "text": [
      "hello, world!\n",
      "hello, world!\n",
      "hello, world!\n"
     ]
    }
   ],
   "source": [
    "print('hello, world!')\n",
    "print('hello, world!')\n",
    "print('hello, world!')"
   ]
  },
  {
   "cell_type": "raw",
   "metadata": {},
   "source": [
    "for 변수 in range(횟수):  \n",
    "    반복할 코드"
   ]
  },
  {
   "cell_type": "markdown",
   "metadata": {},
   "source": [
    "for 다음 줄에 오는 코드는 반드시 들여쓰기 해준다. (파이썬은 레벨 별로 괄호가 없으므로 들여쓰기 안하면 에러남)\n"
   ]
  },
  {
   "cell_type": "markdown",
   "metadata": {},
   "source": [
    "for 반복문의 동작과정을 그림으로 표현하면 다음과 같이 작동한다. \n",
    "![](https://dojang.io/pluginfile.php/13592/mod_page/content/4/016002.png)\n",
    "이렇게 반복할 코드를 순환하는 것을 loop라고 함"
   ]
  },
  {
   "cell_type": "code",
   "execution_count": 4,
   "metadata": {
    "collapsed": true
   },
   "outputs": [
    {
     "name": "stdout",
     "output_type": "stream",
     "text": [
      "hello, world 0\n",
      "hello, world 1\n",
      "hello, world 2\n",
      "hello, world 3\n",
      "hello, world 4\n",
      "hello, world 5\n",
      "hello, world 6\n",
      "hello, world 7\n",
      "hello, world 8\n",
      "hello, world 9\n",
      "hello, world 10\n",
      "hello, world 11\n",
      "hello, world 12\n",
      "hello, world 13\n",
      "hello, world 14\n",
      "hello, world 15\n",
      "hello, world 16\n",
      "hello, world 17\n",
      "hello, world 18\n",
      "hello, world 19\n",
      "hello, world 20\n",
      "hello, world 21\n",
      "hello, world 22\n",
      "hello, world 23\n",
      "hello, world 24\n",
      "hello, world 25\n",
      "hello, world 26\n",
      "hello, world 27\n",
      "hello, world 28\n",
      "hello, world 29\n",
      "hello, world 30\n",
      "hello, world 31\n",
      "hello, world 32\n",
      "hello, world 33\n",
      "hello, world 34\n",
      "hello, world 35\n",
      "hello, world 36\n",
      "hello, world 37\n",
      "hello, world 38\n",
      "hello, world 39\n",
      "hello, world 40\n",
      "hello, world 41\n",
      "hello, world 42\n",
      "hello, world 43\n",
      "hello, world 44\n",
      "hello, world 45\n",
      "hello, world 46\n",
      "hello, world 47\n",
      "hello, world 48\n",
      "hello, world 49\n",
      "hello, world 50\n",
      "hello, world 51\n",
      "hello, world 52\n",
      "hello, world 53\n",
      "hello, world 54\n",
      "hello, world 55\n",
      "hello, world 56\n",
      "hello, world 57\n",
      "hello, world 58\n",
      "hello, world 59\n",
      "hello, world 60\n",
      "hello, world 61\n",
      "hello, world 62\n",
      "hello, world 63\n",
      "hello, world 64\n",
      "hello, world 65\n",
      "hello, world 66\n",
      "hello, world 67\n",
      "hello, world 68\n",
      "hello, world 69\n",
      "hello, world 70\n",
      "hello, world 71\n",
      "hello, world 72\n",
      "hello, world 73\n",
      "hello, world 74\n",
      "hello, world 75\n",
      "hello, world 76\n",
      "hello, world 77\n",
      "hello, world 78\n",
      "hello, world 79\n",
      "hello, world 80\n",
      "hello, world 81\n",
      "hello, world 82\n",
      "hello, world 83\n",
      "hello, world 84\n",
      "hello, world 85\n",
      "hello, world 86\n",
      "hello, world 87\n",
      "hello, world 88\n",
      "hello, world 89\n",
      "hello, world 90\n",
      "hello, world 91\n",
      "hello, world 92\n",
      "hello, world 93\n",
      "hello, world 94\n",
      "hello, world 95\n",
      "hello, world 96\n",
      "hello, world 97\n",
      "hello, world 98\n",
      "hello, world 99\n"
     ]
    }
   ],
   "source": [
    "for i in range(100):\n",
    "    print(\"hello, world\", i)"
   ]
  },
  {
   "cell_type": "markdown",
   "metadata": {},
   "source": [
    "### 16.2.1 시작하는 숫자와 끝나는 숫자 지정하기\n",
    " range에 횟수만 지정하면 숫자가 0부터 시작하지만, 다음과 같이 시작하는 숫자와 끝나는 숫자를 지정해서 반복할 수도 있다. \n",
    "- for 변수 in range(시작, 끝):\n"
   ]
  },
  {
   "cell_type": "code",
   "execution_count": 5,
   "metadata": {},
   "outputs": [
    {
     "name": "stdout",
     "output_type": "stream",
     "text": [
      "hello, world 90\n",
      "hello, world 91\n",
      "hello, world 92\n",
      "hello, world 93\n",
      "hello, world 94\n",
      "hello, world 95\n",
      "hello, world 96\n",
      "hello, world 97\n",
      "hello, world 98\n",
      "hello, world 99\n"
     ]
    }
   ],
   "source": [
    "for i in range(90,100):\n",
    "    print(\"hello, world\", i)\n",
    "print(\"마지막 끝나는 숫자는 range의 끝나는 숫자보다 1이 작다\")"
   ]
  },
  {
   "cell_type": "markdown",
   "metadata": {},
   "source": [
    "### 16.2.2 증가폭 사용하기\n",
    " range는 증가폭을 지정해서 해당 값만큼 숫자를 증가시키는데 이번에는 0~9까지의 숫자 중에서 짝수만 출력해보자."
   ]
  },
  {
   "cell_type": "code",
   "execution_count": 6,
   "metadata": {},
   "outputs": [
    {
     "name": "stdout",
     "output_type": "stream",
     "text": [
      "hello world 0\n",
      "hello world 2\n",
      "hello world 4\n",
      "hello world 6\n",
      "hello world 8\n"
     ]
    }
   ],
   "source": [
    "for i in range(0,10,2):\n",
    "    print(\"hello world\", i)"
   ]
  },
  {
   "cell_type": "markdown",
   "metadata": {},
   "source": [
    "이번엔 증가폭을 음수로 지정해서 반복해보자."
   ]
  },
  {
   "cell_type": "code",
   "execution_count": 12,
   "metadata": {},
   "outputs": [
    {
     "name": "stdout",
     "output_type": "stream",
     "text": [
      "hello world 5\n",
      "hello world 4\n",
      "hello world 3\n",
      "hello world 2\n",
      "hello world 1\n"
     ]
    }
   ],
   "source": [
    "for i in range(5,0,-1): \n",
    "    print(\"hello world\", i)"
   ]
  },
  {
   "cell_type": "markdown",
   "metadata": {},
   "source": [
    "증가폭을 음수로 하면 숫자가 감소하게 된다. 단, 시작하는 숫자가 끝나는 숫자보다 커야 코드가 작동을 한다. 증가폭을 음수로 하지 않고도 숫자의 순서를 뒤집을 수 있는데 reversed 함수를 사용하면 간단히 바뀐다."
   ]
  },
  {
   "cell_type": "code",
   "execution_count": 13,
   "metadata": {},
   "outputs": [
    {
     "name": "stdout",
     "output_type": "stream",
     "text": [
      "hello world 4\n",
      "hello world 3\n",
      "hello world 2\n",
      "hello world 1\n",
      "hello world 0\n"
     ]
    }
   ],
   "source": [
    "for i in reversed(range(5)):\n",
    "    print(\"hello world\",i)"
   ]
  },
  {
   "cell_type": "markdown",
   "metadata": {},
   "source": [
    "증가폭을 음수로 지정한 코드와 range에 reversed를 적용한 코드의 차이는 range함수의 특성상 맨 끝의 숫자보다 1작은 수까지 반복한다. 그래서 위의 코드는 5부터 시작해서 0을 제외한 1까지 출력되고 아래의 코드는 4부터 시작해서 0까지 거꾸로 출력된 것을 알수 있다. range함수는 끝나는 숫자보다 하나 작게 끝난다는 것을 잊지 말아야겠다. \n",
    "\n",
    "### 16.2.4 입력한 횟수대로 반복하기\n"
   ]
  },
  {
   "cell_type": "code",
   "execution_count": 14,
   "metadata": {
    "scrolled": true
   },
   "outputs": [
    {
     "name": "stdout",
     "output_type": "stream",
     "text": [
      "반복할 횟수를 입력하세요: 2\n",
      "Hello, world! 0\n",
      "Hello, world! 1\n"
     ]
    }
   ],
   "source": [
    "count = int(input('반복할 횟수를 입력하세요: '))\n",
    " \n",
    "for i in range(count):\n",
    "    print('Hello, world!', i)"
   ]
  },
  {
   "cell_type": "markdown",
   "metadata": {},
   "source": [
    "### 16.3 시퀀스 객체로 반복하기\n",
    "- 리스트, 튜플, 문자열, 가능하며 역시 reversed를 적용할 수 있다."
   ]
  },
  {
   "cell_type": "code",
   "execution_count": 15,
   "metadata": {},
   "outputs": [
    {
     "name": "stdout",
     "output_type": "stream",
     "text": [
      "10\n",
      "20\n",
      "30\n",
      "40\n"
     ]
    }
   ],
   "source": [
    "a=[10,20,30,40] \n",
    "for i in a:\n",
    "    print(i)"
   ]
  },
  {
   "cell_type": "code",
   "execution_count": 16,
   "metadata": {},
   "outputs": [
    {
     "name": "stdout",
     "output_type": "stream",
     "text": [
      "20\n",
      "30\n",
      "405\n",
      "60\n"
     ]
    }
   ],
   "source": [
    "a=(20,30,405,60)\n",
    "for i in a:\n",
    "    print(i)"
   ]
  },
  {
   "cell_type": "code",
   "execution_count": 17,
   "metadata": {},
   "outputs": [
    {
     "name": "stdout",
     "output_type": "stream",
     "text": [
      "가\n",
      "나\n",
      "다\n",
      "라\n",
      "마\n",
      "바\n",
      "사\n"
     ]
    }
   ],
   "source": [
    "a=\"가나다라마바사\"\n",
    "for i in a:\n",
    "    print(i)"
   ]
  },
  {
   "cell_type": "code",
   "execution_count": 18,
   "metadata": {},
   "outputs": [
    {
     "name": "stdout",
     "output_type": "stream",
     "text": [
      "라\n",
      "다\n",
      "나\n",
      "가\n"
     ]
    }
   ],
   "source": [
    "a=\"가나다라\"\n",
    "for i in reversed(a):\n",
    "    print(i)"
   ]
  },
  {
   "cell_type": "code",
   "execution_count": 3,
   "metadata": {},
   "outputs": [],
   "source": [
    "?range"
   ]
  },
  {
   "cell_type": "code",
   "execution_count": null,
   "metadata": {},
   "outputs": [],
   "source": []
  },
  {
   "cell_type": "code",
   "execution_count": null,
   "metadata": {},
   "outputs": [],
   "source": []
  },
  {
   "cell_type": "code",
   "execution_count": null,
   "metadata": {},
   "outputs": [],
   "source": []
  }
 ],
 "metadata": {
  "kernelspec": {
   "display_name": "Python 3",
   "language": "python",
   "name": "python3"
  },
  "language_info": {
   "codemirror_mode": {
    "name": "ipython",
    "version": 3
   },
   "file_extension": ".py",
   "mimetype": "text/x-python",
   "name": "python",
   "nbconvert_exporter": "python",
   "pygments_lexer": "ipython3",
   "version": "3.7.4"
  }
 },
 "nbformat": 4,
 "nbformat_minor": 2
}
